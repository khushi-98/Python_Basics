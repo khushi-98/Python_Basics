{
 "cells": [
  {
   "cell_type": "code",
   "execution_count": 2,
   "id": "e5e5c019",
   "metadata": {},
   "outputs": [
    {
     "name": "stdout",
     "output_type": "stream",
     "text": [
      "hello world\n"
     ]
    }
   ],
   "source": [
    "print('hello world')\n",
    "print(\"Welcome to basics\")"
   ]
  },
  {
   "cell_type": "code",
   "execution_count": null,
   "id": "25867de7",
   "metadata": {},
   "outputs": [],
   "source": [
    "#single line comment"
   ]
  },
  {
   "cell_type": "code",
   "execution_count": 7,
   "id": "cb345801",
   "metadata": {},
   "outputs": [
    {
     "name": "stdout",
     "output_type": "stream",
     "text": [
      "hello\n"
     ]
    }
   ],
   "source": [
    "#multiline comment\n",
    "'''\n",
    "Basics of python\n",
    "'''\n",
    "\n",
    "print(\"hello\")"
   ]
  },
  {
   "cell_type": "code",
   "execution_count": null,
   "id": "108859f9",
   "metadata": {},
   "outputs": [],
   "source": [
    "#variable declaration"
   ]
  },
  {
   "cell_type": "code",
   "execution_count": 10,
   "id": "72340f19",
   "metadata": {},
   "outputs": [
    {
     "data": {
      "text/plain": [
       "int"
      ]
     },
     "execution_count": 10,
     "metadata": {},
     "output_type": "execute_result"
    }
   ],
   "source": [
    "a=10\n",
    "b=8.9\n",
    "#type(a)"
   ]
  },
  {
   "cell_type": "code",
   "execution_count": 12,
   "id": "b09b1709",
   "metadata": {},
   "outputs": [
    {
     "name": "stdout",
     "output_type": "stream",
     "text": [
      "10\n"
     ]
    }
   ],
   "source": [
    "print(a)"
   ]
  },
  {
   "cell_type": "code",
   "execution_count": 13,
   "id": "91fabe71",
   "metadata": {},
   "outputs": [
    {
     "data": {
      "text/plain": [
       "str"
      ]
     },
     "execution_count": 13,
     "metadata": {},
     "output_type": "execute_result"
    }
   ],
   "source": [
    "c=\"good morning\"\n",
    "type(c)"
   ]
  },
  {
   "cell_type": "code",
   "execution_count": null,
   "id": "cc83c902",
   "metadata": {},
   "outputs": [],
   "source": [
    "#variable name must not start with number name \n",
    "#eg :- 1a=10(invalid case)"
   ]
  },
  {
   "cell_type": "code",
   "execution_count": null,
   "id": "1b654d16",
   "metadata": {},
   "outputs": [],
   "source": [
    "#staring with intergers and float"
   ]
  },
  {
   "cell_type": "code",
   "execution_count": 14,
   "id": "4fbd7cbb",
   "metadata": {},
   "outputs": [
    {
     "data": {
      "text/plain": [
       "20"
      ]
     },
     "execution_count": 14,
     "metadata": {},
     "output_type": "execute_result"
    }
   ],
   "source": [
    "a+10\n"
   ]
  },
  {
   "cell_type": "code",
   "execution_count": 15,
   "id": "4ca6d26b",
   "metadata": {},
   "outputs": [
    {
     "data": {
      "text/plain": [
       "0"
      ]
     },
     "execution_count": 15,
     "metadata": {},
     "output_type": "execute_result"
    }
   ],
   "source": [
    "a-10"
   ]
  },
  {
   "cell_type": "code",
   "execution_count": 16,
   "id": "30bf3707",
   "metadata": {},
   "outputs": [
    {
     "data": {
      "text/plain": [
       "100"
      ]
     },
     "execution_count": 16,
     "metadata": {},
     "output_type": "execute_result"
    }
   ],
   "source": [
    "a*10"
   ]
  },
  {
   "cell_type": "code",
   "execution_count": 17,
   "id": "a2a0dc92",
   "metadata": {},
   "outputs": [
    {
     "data": {
      "text/plain": [
       "1.0"
      ]
     },
     "execution_count": 17,
     "metadata": {},
     "output_type": "execute_result"
    }
   ],
   "source": [
    "a/10"
   ]
  },
  {
   "cell_type": "code",
   "execution_count": 18,
   "id": "e9f0a3ce",
   "metadata": {},
   "outputs": [
    {
     "data": {
      "text/plain": [
       "0"
      ]
     },
     "execution_count": 18,
     "metadata": {},
     "output_type": "execute_result"
    }
   ],
   "source": [
    "a%10"
   ]
  },
  {
   "cell_type": "code",
   "execution_count": 19,
   "id": "4c7ba019",
   "metadata": {},
   "outputs": [
    {
     "data": {
      "text/plain": [
       "18.9"
      ]
     },
     "execution_count": 19,
     "metadata": {},
     "output_type": "execute_result"
    }
   ],
   "source": [
    "a+b"
   ]
  },
  {
   "cell_type": "code",
   "execution_count": 20,
   "id": "4fd219f4",
   "metadata": {},
   "outputs": [
    {
     "data": {
      "text/plain": [
       "1.0999999999999996"
      ]
     },
     "execution_count": 20,
     "metadata": {},
     "output_type": "execute_result"
    }
   ],
   "source": [
    "a-b"
   ]
  },
  {
   "cell_type": "code",
   "execution_count": 21,
   "id": "a00bbc8b",
   "metadata": {},
   "outputs": [
    {
     "data": {
      "text/plain": [
       "1.1235955056179774"
      ]
     },
     "execution_count": 21,
     "metadata": {},
     "output_type": "execute_result"
    }
   ],
   "source": [
    "a/b"
   ]
  },
  {
   "cell_type": "code",
   "execution_count": 22,
   "id": "57918454",
   "metadata": {},
   "outputs": [
    {
     "data": {
      "text/plain": [
       "89.0"
      ]
     },
     "execution_count": 22,
     "metadata": {},
     "output_type": "execute_result"
    }
   ],
   "source": [
    "a*b"
   ]
  },
  {
   "cell_type": "code",
   "execution_count": null,
   "id": "31148654",
   "metadata": {},
   "outputs": [],
   "source": [
    "# boolean numbers "
   ]
  },
  {
   "cell_type": "code",
   "execution_count": 26,
   "id": "61dfa46c",
   "metadata": {},
   "outputs": [
    {
     "data": {
      "text/plain": [
       "bool"
      ]
     },
     "execution_count": 26,
     "metadata": {},
     "output_type": "execute_result"
    }
   ],
   "source": [
    "a1=True\n",
    "b1=False\n",
    "type(a1)"
   ]
  },
  {
   "cell_type": "code",
   "execution_count": 27,
   "id": "a0dafba0",
   "metadata": {},
   "outputs": [
    {
     "data": {
      "text/plain": [
       "bool"
      ]
     },
     "execution_count": 27,
     "metadata": {},
     "output_type": "execute_result"
    }
   ],
   "source": [
    "type(b1)\n"
   ]
  },
  {
   "cell_type": "code",
   "execution_count": 28,
   "id": "77f5182e",
   "metadata": {},
   "outputs": [
    {
     "data": {
      "text/plain": [
       "True"
      ]
     },
     "execution_count": 28,
     "metadata": {},
     "output_type": "execute_result"
    }
   ],
   "source": [
    "# or \n",
    "a1 |b1"
   ]
  },
  {
   "cell_type": "code",
   "execution_count": 29,
   "id": "3f559b15",
   "metadata": {},
   "outputs": [
    {
     "data": {
      "text/plain": [
       "False"
      ]
     },
     "execution_count": 29,
     "metadata": {},
     "output_type": "execute_result"
    }
   ],
   "source": [
    "# and\n",
    "a1&b1"
   ]
  },
  {
   "cell_type": "code",
   "execution_count": null,
   "id": "477400ce",
   "metadata": {},
   "outputs": [],
   "source": [
    "# staring with strings "
   ]
  },
  {
   "cell_type": "code",
   "execution_count": 30,
   "id": "4adb5969",
   "metadata": {},
   "outputs": [
    {
     "name": "stdout",
     "output_type": "stream",
     "text": [
      "khushi\n"
     ]
    }
   ],
   "source": [
    "name=\"khushi\"\n",
    "type(name)\n",
    "print(name)"
   ]
  },
  {
   "cell_type": "code",
   "execution_count": 33,
   "id": "e400a120",
   "metadata": {},
   "outputs": [
    {
     "data": {
      "text/plain": [
       "'khushibansal'"
      ]
     },
     "execution_count": 33,
     "metadata": {},
     "output_type": "execute_result"
    }
   ],
   "source": [
    "#concatenate \n",
    "name +\"bansal\"\n"
   ]
  },
  {
   "cell_type": "code",
   "execution_count": 34,
   "id": "3042b177",
   "metadata": {},
   "outputs": [
    {
     "data": {
      "text/plain": [
       "'khushi bansal'"
      ]
     },
     "execution_count": 34,
     "metadata": {},
     "output_type": "execute_result"
    }
   ],
   "source": [
    "name+ \" \"+\"bansal\""
   ]
  },
  {
   "cell_type": "code",
   "execution_count": null,
   "id": "936a235b",
   "metadata": {},
   "outputs": [],
   "source": [
    "# we can't concatenate interger and strings"
   ]
  },
  {
   "cell_type": "code",
   "execution_count": 35,
   "id": "3d82e692",
   "metadata": {},
   "outputs": [
    {
     "data": {
      "text/plain": [
       "'khushi1'"
      ]
     },
     "execution_count": 35,
     "metadata": {},
     "output_type": "execute_result"
    }
   ],
   "source": [
    "name +str(1)"
   ]
  },
  {
   "cell_type": "code",
   "execution_count": 36,
   "id": "fa8e1fad",
   "metadata": {},
   "outputs": [
    {
     "name": "stdout",
     "output_type": "stream",
     "text": [
      "1.0 -2.5\n"
     ]
    }
   ],
   "source": [
    "#complex numbers\n",
    "j=1 -2.5j\n",
    "j\n",
    "print(j.real, j.imag)"
   ]
  },
  {
   "cell_type": "code",
   "execution_count": 41,
   "id": "5f50dc5f",
   "metadata": {},
   "outputs": [],
   "source": [
    "#dynamic typing \n",
    "a=10\n",
    "#a='rahul'\n",
    "#a+\"1\""
   ]
  },
  {
   "cell_type": "code",
   "execution_count": 42,
   "id": "19e58fe9",
   "metadata": {},
   "outputs": [
    {
     "data": {
      "text/plain": [
       "20"
      ]
     },
     "execution_count": 42,
     "metadata": {},
     "output_type": "execute_result"
    }
   ],
   "source": [
    "a+10"
   ]
  },
  {
   "cell_type": "code",
   "execution_count": 43,
   "id": "b819eb70",
   "metadata": {},
   "outputs": [
    {
     "name": "stdout",
     "output_type": "stream",
     "text": [
      "The first name is Khushi and the last name is Bansal\n"
     ]
    }
   ],
   "source": [
    "first_name=\"Khushi\"\n",
    "last_name=\"Bansal\"\n",
    "print(\"The first name is {} and the last name is {}\".format(first_name,last_name))"
   ]
  },
  {
   "cell_type": "code",
   "execution_count": 44,
   "id": "db783227",
   "metadata": {},
   "outputs": [
    {
     "name": "stdout",
     "output_type": "stream",
     "text": [
      "Enter  your name:-khushi \n"
     ]
    },
    {
     "data": {
      "text/plain": [
       "'khushi '"
      ]
     },
     "execution_count": 44,
     "metadata": {},
     "output_type": "execute_result"
    }
   ],
   "source": [
    "#input type\n",
    "input(\"Enter  your name:-\")"
   ]
  },
  {
   "cell_type": "code",
   "execution_count": 46,
   "id": "72c9947b",
   "metadata": {},
   "outputs": [
    {
     "name": "stdout",
     "output_type": "stream",
     "text": [
      "Enter number 1:-12\n",
      "Enter number 2:-12\n",
      "24\n"
     ]
    }
   ],
   "source": [
    "#enter two numbers\n",
    "a=input(\"Enter number 1:-\")\n",
    "b=input(\"Enter number 2:-\")\n",
    "a+b\n",
    "print(int (a)+int(b))\n"
   ]
  },
  {
   "cell_type": "code",
   "execution_count": null,
   "id": "558685c1",
   "metadata": {},
   "outputs": [],
   "source": []
  }
 ],
 "metadata": {
  "kernelspec": {
   "display_name": "Python 3 (ipykernel)",
   "language": "python",
   "name": "python3"
  },
  "language_info": {
   "codemirror_mode": {
    "name": "ipython",
    "version": 3
   },
   "file_extension": ".py",
   "mimetype": "text/x-python",
   "name": "python",
   "nbconvert_exporter": "python",
   "pygments_lexer": "ipython3",
   "version": "3.11.5"
  }
 },
 "nbformat": 4,
 "nbformat_minor": 5
}
