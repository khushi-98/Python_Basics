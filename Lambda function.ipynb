{
 "cells": [
  {
   "cell_type": "code",
   "execution_count": 1,
   "id": "eb8b62b0",
   "metadata": {},
   "outputs": [
    {
     "data": {
      "text/plain": [
       "<function __main__.<lambda>(x, y)>"
      ]
     },
     "execution_count": 1,
     "metadata": {},
     "output_type": "execute_result"
    }
   ],
   "source": [
    "f=lambda x,y:x+y\n",
    "f"
   ]
  },
  {
   "cell_type": "code",
   "execution_count": 2,
   "id": "60eb6eb8",
   "metadata": {},
   "outputs": [
    {
     "data": {
      "text/plain": [
       "11"
      ]
     },
     "execution_count": 2,
     "metadata": {},
     "output_type": "execute_result"
    }
   ],
   "source": [
    "f(5,6)"
   ]
  },
  {
   "cell_type": "code",
   "execution_count": 4,
   "id": "bad96a13",
   "metadata": {},
   "outputs": [
    {
     "data": {
      "text/plain": [
       "6"
      ]
     },
     "execution_count": 4,
     "metadata": {},
     "output_type": "execute_result"
    }
   ],
   "source": [
    "multiply=lambda x,y:x*y\n",
    "multiply(2,3)"
   ]
  },
  {
   "cell_type": "code",
   "execution_count": 7,
   "id": "25c72dd7",
   "metadata": {},
   "outputs": [
    {
     "data": {
      "text/plain": [
       "6"
      ]
     },
     "execution_count": 7,
     "metadata": {},
     "output_type": "execute_result"
    }
   ],
   "source": [
    "string_length=lambda s:len(s)\n",
    "string_length(\"Khushi\")"
   ]
  },
  {
   "cell_type": "code",
   "execution_count": 9,
   "id": "775932c3",
   "metadata": {},
   "outputs": [
    {
     "name": "stdout",
     "output_type": "stream",
     "text": [
      "[1, 4, 9, 16, 25]\n"
     ]
    }
   ],
   "source": [
    "numbers=[1,2,3,4,5]\n",
    "squares=list(map(lambda x:x**2,numbers))\n",
    "print(squares)"
   ]
  },
  {
   "cell_type": "code",
   "execution_count": 13,
   "id": "b1a644cb",
   "metadata": {},
   "outputs": [
    {
     "name": "stdout",
     "output_type": "stream",
     "text": [
      "[False, True, False, True, False, True]\n"
     ]
    }
   ],
   "source": [
    "number=[1,2,3,4,5,6]\n",
    "even=list(map(lambda x:x%2==0,number))\n",
    "print (even)"
   ]
  },
  {
   "cell_type": "code",
   "execution_count": 14,
   "id": "f973f23c",
   "metadata": {},
   "outputs": [
    {
     "data": {
      "text/plain": [
       "[2, 4, 6]"
      ]
     },
     "execution_count": 14,
     "metadata": {},
     "output_type": "execute_result"
    }
   ],
   "source": [
    "numbers=[1,2,3,4,5,6]\n",
    "list(filter(lambda x:x%2==0,numbers))\n"
   ]
  },
  {
   "cell_type": "code",
   "execution_count": 15,
   "id": "f9962af9",
   "metadata": {},
   "outputs": [],
   "source": [
    "#sort the list acc to their length and alphabetic order"
   ]
  },
  {
   "cell_type": "code",
   "execution_count": 16,
   "id": "768f6f6c",
   "metadata": {},
   "outputs": [
    {
     "data": {
      "text/plain": [
       "['date', 'apple', 'banana', 'cherry', 'cranberry']"
      ]
     },
     "execution_count": 16,
     "metadata": {},
     "output_type": "execute_result"
    }
   ],
   "source": [
    "fruits=['apple','banana','cherry','date','cranberry']\n",
    "sorted(fruits,key=lambda x:len(x))"
   ]
  },
  {
   "cell_type": "code",
   "execution_count": 17,
   "id": "ad1ea525",
   "metadata": {},
   "outputs": [],
   "source": [
    "people=[{'name':'alice','age':25,'occupation':'engineer'},\n",
    "        {'name':'bob','age':30,'occupation':'manager'},\n",
    "        {'name':'charlie','age':22,'occupation':'intern'}\n",
    "       ]"
   ]
  },
  {
   "cell_type": "code",
   "execution_count": 18,
   "id": "5a89a0d4",
   "metadata": {},
   "outputs": [
    {
     "data": {
      "text/plain": [
       "[{'name': 'charlie', 'age': 22, 'occupation': 'intern'},\n",
       " {'name': 'alice', 'age': 25, 'occupation': 'engineer'},\n",
       " {'name': 'bob', 'age': 30, 'occupation': 'manager'}]"
      ]
     },
     "execution_count": 18,
     "metadata": {},
     "output_type": "execute_result"
    }
   ],
   "source": [
    "sorted(people, key=lambda x:x['age'])"
   ]
  },
  {
   "cell_type": "code",
   "execution_count": 19,
   "id": "1430c126",
   "metadata": {},
   "outputs": [
    {
     "data": {
      "text/plain": [
       "[{'name': 'alice', 'age': 25, 'occupation': 'engineer'},\n",
       " {'name': 'bob', 'age': 30, 'occupation': 'manager'},\n",
       " {'name': 'charlie', 'age': 22, 'occupation': 'intern'}]"
      ]
     },
     "execution_count": 19,
     "metadata": {},
     "output_type": "execute_result"
    }
   ],
   "source": [
    "sorted(people, key=lambda x:x['name'])"
   ]
  },
  {
   "cell_type": "code",
   "execution_count": 20,
   "id": "fddb45d9",
   "metadata": {},
   "outputs": [
    {
     "data": {
      "text/plain": [
       "'b'"
      ]
     },
     "execution_count": 20,
     "metadata": {},
     "output_type": "execute_result"
    }
   ],
   "source": [
    "data={'a':10,'b':20,'c':5,'d':15}\n",
    "max(data,key=lambda x:data[x])"
   ]
  },
  {
   "cell_type": "code",
   "execution_count": 21,
   "id": "65c65767",
   "metadata": {},
   "outputs": [
    {
     "name": "stdout",
     "output_type": "stream",
     "text": [
      "a [('b', <itertools._grouper object at 0x000001B6299545E0>), ('c', <itertools._grouper object at 0x000001B629954190>), ('d', <itertools._grouper object at 0x000001B629956050>)]\n"
     ]
    }
   ],
   "source": [
    "from itertools import groupby\n",
    "words=['apple','banana','cherry','date']\n",
    "groups=groupby(sorted(words),key=lambda x:x[0])\n",
    "\n",
    "for key, group in groups:\n",
    "    print(key, list(groups))"
   ]
  },
  {
   "cell_type": "code",
   "execution_count": null,
   "id": "da2c614b",
   "metadata": {},
   "outputs": [],
   "source": []
  },
  {
   "cell_type": "code",
   "execution_count": null,
   "id": "0317444b",
   "metadata": {},
   "outputs": [],
   "source": []
  },
  {
   "cell_type": "code",
   "execution_count": null,
   "id": "f6cd6758",
   "metadata": {},
   "outputs": [],
   "source": []
  }
 ],
 "metadata": {
  "kernelspec": {
   "display_name": "Python 3 (ipykernel)",
   "language": "python",
   "name": "python3"
  },
  "language_info": {
   "codemirror_mode": {
    "name": "ipython",
    "version": 3
   },
   "file_extension": ".py",
   "mimetype": "text/x-python",
   "name": "python",
   "nbconvert_exporter": "python",
   "pygments_lexer": "ipython3",
   "version": "3.11.5"
  }
 },
 "nbformat": 4,
 "nbformat_minor": 5
}
