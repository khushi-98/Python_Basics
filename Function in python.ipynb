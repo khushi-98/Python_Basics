{
 "cells": [
  {
   "cell_type": "code",
   "execution_count": 2,
   "id": "1b67e1d3",
   "metadata": {},
   "outputs": [
    {
     "name": "stdout",
     "output_type": "stream",
     "text": [
      "Hello khushi you are 32 years old.\n"
     ]
    }
   ],
   "source": [
    "def hello(name, age):\n",
    "    print(\"Hello \"+name+\" you are \"+str(age)+\" years old.\")\n",
    "    \n",
    "hello(\"khushi\",32)"
   ]
  },
  {
   "cell_type": "code",
   "execution_count": 3,
   "id": "0d35d71b",
   "metadata": {},
   "outputs": [
    {
     "name": "stdout",
     "output_type": "stream",
     "text": [
      "('Khushi', 'Bansal')\n",
      "{'age': 32, 'dob': 2000}\n"
     ]
    }
   ],
   "source": [
    "def hello(*args, **kwargs):\n",
    "    print(args);\n",
    "    print(kwargs);\n",
    "hello(\"Khushi\",\"Bansal\",age=32,dob=2000)"
   ]
  },
  {
   "cell_type": "code",
   "execution_count": 5,
   "id": "f8bc76ab",
   "metadata": {},
   "outputs": [
    {
     "name": "stdout",
     "output_type": "stream",
     "text": [
      "(['Khushi', 'Bansal'], {'age': 32, 'dob': 2000})\n",
      "{}\n"
     ]
    }
   ],
   "source": [
    "lst=list(('Khushi','Bansal'))\n",
    "dict_val={'age':32,'dob':2000}\n",
    "hello(lst,dict_val)"
   ]
  },
  {
   "cell_type": "code",
   "execution_count": null,
   "id": "ab67cbc9",
   "metadata": {},
   "outputs": [],
   "source": []
  }
 ],
 "metadata": {
  "kernelspec": {
   "display_name": "Python 3 (ipykernel)",
   "language": "python",
   "name": "python3"
  },
  "language_info": {
   "codemirror_mode": {
    "name": "ipython",
    "version": 3
   },
   "file_extension": ".py",
   "mimetype": "text/x-python",
   "name": "python",
   "nbconvert_exporter": "python",
   "pygments_lexer": "ipython3",
   "version": "3.11.5"
  }
 },
 "nbformat": 4,
 "nbformat_minor": 5
}
