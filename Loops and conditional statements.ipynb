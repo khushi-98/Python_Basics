{
 "cells": [
  {
   "cell_type": "code",
   "execution_count": null,
   "id": "8ebaf47d",
   "metadata": {},
   "outputs": [],
   "source": [
    "#loop and control statement "
   ]
  },
  {
   "cell_type": "code",
   "execution_count": null,
   "id": "59b1b796",
   "metadata": {},
   "outputs": [],
   "source": [
    "#if -else statement "
   ]
  },
  {
   "cell_type": "code",
   "execution_count": 3,
   "id": "d69e2116",
   "metadata": {},
   "outputs": [
    {
     "name": "stdout",
     "output_type": "stream",
     "text": [
      "Enter the number:-100\n",
      "less than 100\n"
     ]
    }
   ],
   "source": [
    "val=input(\"Enter the number:-\")\n",
    "value_float=float(val)\n",
    "if(value_float>100):\n",
    "    print(\"The number is greter than 100\")\n",
    "else :\n",
    "        print(\"less than 100\")"
   ]
  },
  {
   "cell_type": "code",
   "execution_count": 4,
   "id": "8833076c",
   "metadata": {},
   "outputs": [
    {
     "name": "stdout",
     "output_type": "stream",
     "text": [
      "Enter a number:-2\n",
      "The number is even\n"
     ]
    }
   ],
   "source": [
    "b=input(\"Enter a number:-\")\n",
    "value=int(b)\n",
    "if(value%2==0):\n",
    "    print(\"The number is even\")\n",
    "else:\n",
    "    print(\"the number is odd\")"
   ]
  },
  {
   "cell_type": "code",
   "execution_count": 6,
   "id": "585e3bd2",
   "metadata": {},
   "outputs": [
    {
     "name": "stdout",
     "output_type": "stream",
     "text": [
      "Enter a number:-10\n",
      "Not Eligible\n",
      "Some time left to get eligible\n"
     ]
    }
   ],
   "source": [
    "#nested loop \n",
    "age =float(input(\"Enter a number:-\"))\n",
    "if(age<18):\n",
    "    print(\"Not Eligible\")\n",
    "    if(age<10):\n",
    "        print(\"Many time left to get eligible\")\n",
    "    else:\n",
    "        print(\"Some time left to get eligible\")\n",
    "else:\n",
    "    print(\"Eligible\")"
   ]
  },
  {
   "cell_type": "code",
   "execution_count": 7,
   "id": "e00317be",
   "metadata": {},
   "outputs": [
    {
     "name": "stdout",
     "output_type": "stream",
     "text": [
      "21\n"
     ]
    }
   ],
   "source": [
    "# loop statement\n",
    "# for loop, while loop\n",
    "lst=[1,2,3,4,5,6]\n",
    "sum=0\n",
    "for i in lst:\n",
    "    sum=sum +i\n",
    "print(sum)\n",
    "    "
   ]
  },
  {
   "cell_type": "code",
   "execution_count": 8,
   "id": "e931d501",
   "metadata": {},
   "outputs": [
    {
     "name": "stdout",
     "output_type": "stream",
     "text": [
      "0\n",
      "1\n",
      "2\n",
      "3\n",
      "4\n",
      "5\n",
      "6\n",
      "7\n",
      "8\n",
      "9\n",
      "10\n"
     ]
    }
   ],
   "source": [
    "#while loop \n",
    "i=0\n",
    "while(i<=10):\n",
    "    print(i)\n",
    "    i=i+1"
   ]
  },
  {
   "cell_type": "code",
   "execution_count": 21,
   "id": "e013994f",
   "metadata": {},
   "outputs": [
    {
     "name": "stdout",
     "output_type": "stream",
     "text": [
      "1\n",
      "2\n",
      "3\n"
     ]
    }
   ],
   "source": [
    "#break \n",
    "x=1\n",
    "while(x<7):\n",
    " if x==4:\n",
    "        break\n",
    " print(x)\n",
    " x=x+1"
   ]
  },
  {
   "cell_type": "code",
   "execution_count": 22,
   "id": "15d15d8d",
   "metadata": {},
   "outputs": [
    {
     "name": "stdout",
     "output_type": "stream",
     "text": [
      "1\n",
      "2\n",
      "3\n",
      "5\n",
      "6\n",
      "7\n"
     ]
    }
   ],
   "source": [
    "#continue \n",
    "x=0\n",
    "while x<7:\n",
    "    x=x+1\n",
    "    if x==4:\n",
    "        continue\n",
    "    print(x)\n",
    "    "
   ]
  },
  {
   "cell_type": "code",
   "execution_count": null,
   "id": "ace80d05",
   "metadata": {},
   "outputs": [],
   "source": []
  },
  {
   "cell_type": "code",
   "execution_count": null,
   "id": "4eaff79b",
   "metadata": {},
   "outputs": [],
   "source": []
  },
  {
   "cell_type": "code",
   "execution_count": null,
   "id": "94803d79",
   "metadata": {},
   "outputs": [],
   "source": []
  },
  {
   "cell_type": "code",
   "execution_count": null,
   "id": "159d8032",
   "metadata": {},
   "outputs": [],
   "source": []
  }
 ],
 "metadata": {
  "kernelspec": {
   "display_name": "Python 3 (ipykernel)",
   "language": "python",
   "name": "python3"
  },
  "language_info": {
   "codemirror_mode": {
    "name": "ipython",
    "version": 3
   },
   "file_extension": ".py",
   "mimetype": "text/x-python",
   "name": "python",
   "nbconvert_exporter": "python",
   "pygments_lexer": "ipython3",
   "version": "3.11.5"
  }
 },
 "nbformat": 4,
 "nbformat_minor": 5
}
